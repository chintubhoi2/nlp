{
  "nbformat": 4,
  "nbformat_minor": 0,
  "metadata": {
    "colab": {
      "provenance": []
    },
    "kernelspec": {
      "name": "python3",
      "display_name": "Python 3"
    },
    "language_info": {
      "name": "python"
    }
  },
  "cells": [
    {
      "cell_type": "code",
      "source": [
        "import PyPDF2\n",
        "import csv\n",
        "from collections import Counter"
      ],
      "metadata": {
        "id": "Q29cleaZE9UF"
      },
      "execution_count": 57,
      "outputs": []
    },
    {
      "cell_type": "code",
      "source": [
        "def extract(path):\n",
        "    pdf = open(path, 'rb')\n",
        "    reader = PyPDF2.PdfReader(pdf)\n",
        "    num_pages = len(reader.pages)\n",
        "\n",
        "    docs = \"\"\n",
        "    for page_num in range(num_pages):\n",
        "        page = reader.pages[page_num]\n",
        "        docs += page.extract_text()\n",
        "\n",
        "    pdf.close()\n",
        "    return docs"
      ],
      "metadata": {
        "id": "msGOyrOdGzQX"
      },
      "execution_count": 59,
      "outputs": []
    },
    {
      "cell_type": "code",
      "source": [
        "def find_most_repeated_word(text):\n",
        "    words = text.split()\n",
        "    word_count = Counter(words)\n",
        "    most_common_word = word_count.most_common(1)[0]\n",
        "    return most_common_word"
      ],
      "metadata": {
        "id": "gLDoMCstG29Z"
      },
      "execution_count": 60,
      "outputs": []
    },
    {
      "cell_type": "code",
      "source": [
        "path = '/content/interview questions set 1.pdf'\n",
        "text = extract(path)\n",
        "\n",
        "most_common_word = find_most_repeated_word(text)\n",
        "print(\"Most repeated word:\", most_common_word[0])"
      ],
      "metadata": {
        "colab": {
          "base_uri": "https://localhost:8080/"
        },
        "id": "aKGJNs_hHTCF",
        "outputId": "d39a2bfa-4b65-46f1-feb0-a08cc94de4c3"
      },
      "execution_count": 61,
      "outputs": [
        {
          "output_type": "stream",
          "name": "stdout",
          "text": [
            "Most repeated word: you\n"
          ]
        }
      ]
    },
    {
      "cell_type": "code",
      "source": [
        "csv_path = '/content/extracted.csv'\n",
        "with open(csv_path, 'w', newline='', encoding='utf-8') as file:\n",
        "    writer = csv.writer(file)\n",
        "    writer.writerow(['Text'])\n",
        "    writer.writerow([text])"
      ],
      "metadata": {
        "id": "BIHthRBTHYKW"
      },
      "execution_count": null,
      "outputs": []
    },
    {
      "cell_type": "code",
      "source": [
        "!pip install PyPDF2"
      ],
      "metadata": {
        "colab": {
          "base_uri": "https://localhost:8080/"
        },
        "id": "wJlOifvOGV-B",
        "outputId": "d1fdde27-ba43-4d84-a859-e7c337caa2fd"
      },
      "execution_count": 54,
      "outputs": [
        {
          "output_type": "stream",
          "name": "stdout",
          "text": [
            "Looking in indexes: https://pypi.org/simple, https://us-python.pkg.dev/colab-wheels/public/simple/\n",
            "Collecting PyPDF2\n",
            "  Downloading pypdf2-3.0.1-py3-none-any.whl (232 kB)\n",
            "\u001b[2K     \u001b[90m━━━━━━━━━━━━━━━━━━━━━━━━━━━━━━━━━━━━━━━\u001b[0m \u001b[32m232.6/232.6 kB\u001b[0m \u001b[31m6.2 MB/s\u001b[0m eta \u001b[36m0:00:00\u001b[0m\n",
            "\u001b[?25hInstalling collected packages: PyPDF2\n",
            "Successfully installed PyPDF2-3.0.1\n"
          ]
        }
      ]
    },
    {
      "cell_type": "code",
      "source": [],
      "metadata": {
        "id": "ss2H5aM1GXos"
      },
      "execution_count": null,
      "outputs": []
    }
  ]
}